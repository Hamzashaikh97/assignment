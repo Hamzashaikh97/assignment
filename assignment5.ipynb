{
 "cells": [
  {
   "cell_type": "code",
   "execution_count": 1,
   "metadata": {},
   "outputs": [
    {
     "name": "stdout",
     "output_type": "stream",
     "text": [
      "6\n",
      "factorial 720\n"
     ]
    }
   ],
   "source": [
    "#program1\n",
    "def fact(x):\n",
    "    a = 1\n",
    "    print(x)\n",
    "    for i in range(1,x+1):\n",
    "        a = a*i\n",
    "    print(\"factorial\",a)\n",
    "fact(6)    "
   ]
  },
  {
   "cell_type": "code",
   "execution_count": 1,
   "metadata": {},
   "outputs": [
    {
     "name": "stdout",
     "output_type": "stream",
     "text": [
      "Original String :  HamZa Shaikh\n",
      "No. of Upper case characters :  3\n",
      "No. of Lower case Characters :  8\n"
     ]
    }
   ],
   "source": [
    "#program2\n",
    "def string(s):\n",
    "    a={\"UPPER_CASE\":0, \"LOWER_CASE\":0}\n",
    "    for b in s:\n",
    "        if b.isupper():\n",
    "           a[\"UPPER_CASE\"]+=1\n",
    "        elif b.islower():\n",
    "           a[\"LOWER_CASE\"]+=1\n",
    "    print (\"Original String : \", s)\n",
    "    print (\"No. of Upper case characters : \", a[\"UPPER_CASE\"])\n",
    "    print (\"No. of Lower case Characters : \", a[\"LOWER_CASE\"])\n",
    "\n",
    "string('HamZa Shaikh')"
   ]
  },
  {
   "cell_type": "code",
   "execution_count": 9,
   "metadata": {},
   "outputs": [
    {
     "name": "stdout",
     "output_type": "stream",
     "text": [
      "even 2\n",
      "odd 3\n",
      "even 6\n",
      "odd 7\n",
      "even 4\n",
      "odd 9\n",
      "odd 11\n"
     ]
    }
   ],
   "source": [
    "#program3\n",
    "def evenodd():\n",
    "    numbers = [2,3,6,7,4,9,11]\n",
    "    for i in numbers:\n",
    "        if i % 2 == 0:\n",
    "            print('even',i)\n",
    "        else:\n",
    "            print('odd',i)\n",
    "evenodd()        "
   ]
  },
  {
   "cell_type": "code",
   "execution_count": 11,
   "metadata": {},
   "outputs": [
    {
     "name": "stdout",
     "output_type": "stream",
     "text": [
      "True\n"
     ]
    }
   ],
   "source": [
    "#program4\n",
    "def isPalindrome(string):\n",
    "    left_pos = 0\n",
    "    right_pos = len(string) - 1\n",
    "    \n",
    "    while right_pos >= left_pos:\n",
    "        if not string[left_pos] == string[right_pos]:\n",
    "            return False\n",
    "        left_pos += 1\n",
    "        right_pos -= 1\n",
    "    return True\n",
    "print(isPalindrome('madam'))"
   ]
  },
  {
   "cell_type": "code",
   "execution_count": 13,
   "metadata": {},
   "outputs": [
    {
     "name": "stdout",
     "output_type": "stream",
     "text": [
      "not a prime number\n"
     ]
    }
   ],
   "source": [
    "#program5\n",
    "def number(a=4):\n",
    "    if a % 2 == 0 :\n",
    "        print(\"not a prime number\")\n",
    "    else :\n",
    "        print(\"prime number\")\n",
    "number()        "
   ]
  },
  {
   "cell_type": "code",
   "execution_count": 2,
   "metadata": {},
   "outputs": [
    {
     "name": "stdout",
     "output_type": "stream",
     "text": [
      "brought from market milk\n",
      "brought from market eggs\n",
      "brought from market fruits\n",
      "brought from market vegetables\n"
     ]
    }
   ],
   "source": [
    "#program6\n",
    "def shopping(*params):\n",
    "    for param in params:\n",
    "        print(\"brought from market\",param)\n",
    "shopping(\"milk\",\"eggs\",\"fruits\",\"vegetables\")    "
   ]
  },
  {
   "cell_type": "code",
   "execution_count": null,
   "metadata": {},
   "outputs": [],
   "source": []
  }
 ],
 "metadata": {
  "kernelspec": {
   "display_name": "Python 3",
   "language": "python",
   "name": "python3"
  },
  "language_info": {
   "codemirror_mode": {
    "name": "ipython",
    "version": 3
   },
   "file_extension": ".py",
   "mimetype": "text/x-python",
   "name": "python",
   "nbconvert_exporter": "python",
   "pygments_lexer": "ipython3",
   "version": "3.7.4"
  }
 },
 "nbformat": 4,
 "nbformat_minor": 2
}
