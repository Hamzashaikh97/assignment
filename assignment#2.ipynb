{
 "cells": [
  {
   "cell_type": "code",
   "execution_count": 2,
   "metadata": {},
   "outputs": [
    {
     "name": "stdout",
     "output_type": "stream",
     "text": [
      "enter maths marks\n",
      "60\n",
      "enter english marks\n",
      "45\n",
      "enter urdu marks\n",
      "65\n",
      "enter chemistry marks\n",
      "78\n",
      "enter physics marks\n",
      "67\n",
      "315.0\n",
      "Grade is D\n"
     ]
    }
   ],
   "source": [
    "##program1 \n",
    "\n",
    "print(\"enter maths marks\")\n",
    "m=float(input())\n",
    "print(\"enter english marks\")\n",
    "e=float(input())\n",
    "print(\"enter urdu marks\")\n",
    "u=float(input())\n",
    "print(\"enter chemistry marks\")\n",
    "c=float(input())\n",
    "print(\"enter physics marks\")\n",
    "p=float(input())\n",
    "total=m+e+u+c+p\n",
    "print(total)\n",
    "if total >= 480 and total >= 500 :\n",
    "    print(\"Grade is A+\")\n",
    "elif total >= 400 and total >= 480  :\n",
    "        print(\"Grade is A\")\n",
    "elif total >= 350 and total >= 400 :\n",
    "        print(\"Grade is B\")\n",
    "elif total >= 300 and total >= 350 :\n",
    "        print(\"Grade is C\")\n",
    "elif total >= 250 and total >= 300 :\n",
    "            print(\"Grade is D\")\n",
    "elif total >= 0 and total >= 250 :\n",
    "            print(\"fail\")\n",
    "else:\n",
    "                print(\"you have enter incorrect percentage\")\n",
    "            \n"
   ]
  },
  {
   "cell_type": "code",
   "execution_count": 12,
   "metadata": {},
   "outputs": [
    {
     "name": "stdout",
     "output_type": "stream",
     "text": [
      "enter the number10\n",
      "number is even\n"
     ]
    }
   ],
   "source": [
    "##program 2\n",
    "\n",
    "num=int(input(\"enter the number\"))\n",
    "if num%2 :\n",
    "     print( \"number is odd\")\n",
    "else :\n",
    "     print(\"number is even\")"
   ]
  },
  {
   "cell_type": "code",
   "execution_count": 17,
   "metadata": {},
   "outputs": [
    {
     "name": "stdout",
     "output_type": "stream",
     "text": [
      "The length of list is:  3\n"
     ]
    }
   ],
   "source": [
    "##program 3\n",
    "n = len([10, 20, 30]) \n",
    "print(\"The length of list is: \", n) "
   ]
  },
  {
   "cell_type": "code",
   "execution_count": 20,
   "metadata": {},
   "outputs": [
    {
     "name": "stdout",
     "output_type": "stream",
     "text": [
      "Sum of all elements in given list:  60\n"
     ]
    }
   ],
   "source": [
    "#program 4\n",
    "n = [10, 20, 30]\n",
    "total = sum(n)\n",
    "print(\"Sum of all elements in given list: \", total)"
   ]
  },
  {
   "cell_type": "code",
   "execution_count": 21,
   "metadata": {},
   "outputs": [
    {
     "name": "stdout",
     "output_type": "stream",
     "text": [
      "Largest element is: 30\n"
     ]
    }
   ],
   "source": [
    "##program 5\n",
    "n = [10, 20, 30]\n",
    "print(\"Largest element is:\", max(n)) \n"
   ]
  },
  {
   "cell_type": "code",
   "execution_count": 46,
   "metadata": {},
   "outputs": [
    {
     "name": "stdout",
     "output_type": "stream",
     "text": [
      "[1, 1, 2, 3]\n"
     ]
    }
   ],
   "source": [
    "a = [1, 1, 2, 3, 5, 8, 13, 21, 34, 55, 89]\n",
    "\n",
    "new_list = []\n",
    "\n",
    "for item in a :\n",
    "  \n",
    "    if item<5 :\n",
    "         new_list.append(item)\n",
    "print(new_list)\n",
    "\n"
   ]
  },
  {
   "cell_type": "code",
   "execution_count": null,
   "metadata": {},
   "outputs": [],
   "source": []
  },
  {
   "cell_type": "code",
   "execution_count": null,
   "metadata": {},
   "outputs": [],
   "source": []
  }
 ],
 "metadata": {
  "kernelspec": {
   "display_name": "Python 3",
   "language": "python",
   "name": "python3"
  },
  "language_info": {
   "codemirror_mode": {
    "name": "ipython",
    "version": 3
   },
   "file_extension": ".py",
   "mimetype": "text/x-python",
   "name": "python",
   "nbconvert_exporter": "python",
   "pygments_lexer": "ipython3",
   "version": "3.7.4"
  }
 },
 "nbformat": 4,
 "nbformat_minor": 2
}
