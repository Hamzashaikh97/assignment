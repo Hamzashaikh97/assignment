{
 "cells": [
  {
   "cell_type": "code",
   "execution_count": 1,
   "metadata": {},
   "outputs": [
    {
     "name": "stdout",
     "output_type": "stream",
     "text": [
      "Hamza\n",
      "Shaikh\n",
      "23\n",
      "karachi\n"
     ]
    }
   ],
   "source": [
    "#program 1\n",
    "person = {\n",
    "    'first_name': 'Hamza',\n",
    "    'last_name': 'Shaikh',\n",
    "    'age': 23,\n",
    "    'city': 'karachi',\n",
    "    }\n",
    "\n",
    "print(person['first_name'])\n",
    "print(person['last_name'])\n",
    "print(person['age'])\n",
    "print(person['city'])"
   ]
  },
  {
   "cell_type": "code",
   "execution_count": 3,
   "metadata": {},
   "outputs": [
    {
     "name": "stdout",
     "output_type": "stream",
     "text": [
      "\n",
      "Karachi is in Pakistan.\n",
      "  It has a population of about 25000000.\n",
      "  The Kirthar mountains are nearby.\n",
      "\n",
      "Islamabad is in Pakistan.\n",
      "  It has a population of about 1000000.\n",
      "  The Margala mountains are nearby.\n",
      "\n",
      "Lahore is in Pakistan.\n",
      "  It has a population of about 1003285.\n",
      "  The Gorakh  mountains are nearby.\n"
     ]
    }
   ],
   "source": [
    "#program 2\n",
    "cities = {\n",
    "    'karachi': {\n",
    "        'country': 'pakistan',\n",
    "        'population': 25000000,\n",
    "        'nearby mountains': 'kirthar',\n",
    "        },\n",
    "    'islamabad': {\n",
    "        'country': 'pakistan',\n",
    "        'population':1000000 ,\n",
    "        'nearby mountains': 'Margala',\n",
    "        },\n",
    "    'Lahore': {\n",
    "        'country': 'pakistan',\n",
    "        'population': 1003285,\n",
    "        'nearby mountains': 'Gorakh ',\n",
    "        }\n",
    "    }\n",
    "\n",
    "for city, city_info in cities.items():\n",
    "    country = city_info['country'].title()\n",
    "    population = city_info['population']\n",
    "    mountains = city_info['nearby mountains'].title()\n",
    "\n",
    "    print(\"\\n\" + city.title() + \" is in \" + country + \".\")\n",
    "    print(\"  It has a population of about \" + str(population) + \".\")\n",
    "    print(\"  The \" + mountains + \" mountains are nearby.\")"
   ]
  },
  {
   "cell_type": "code",
   "execution_count": 4,
   "metadata": {},
   "outputs": [
    {
     "name": "stdout",
     "output_type": "stream",
     "text": [
      "How old are you?\n",
      "Enter 'quit' when you are finished. 23\n",
      "  Your ticket is $15.\n",
      "How old are you?\n",
      "Enter 'quit' when you are finished. 2\n",
      "  You get in free!\n",
      "How old are you?\n",
      "Enter 'quit' when you are finished. quit\n"
     ]
    }
   ],
   "source": [
    "#program 3\n",
    "prompt = \"How old are you?\"\n",
    "prompt += \"\\nEnter 'quit' when you are finished. \"\n",
    "\n",
    "while True:\n",
    "    age = input(prompt)\n",
    "    if age == 'quit':\n",
    "        break\n",
    "    age = int(age)\n",
    "\n",
    "    if age < 3:\n",
    "        print(\"  You get in free!\")\n",
    "    elif age < 13:\n",
    "        print(\"  Your ticket is $10.\")\n",
    "    else:\n",
    "        print(\"  Your ticket is $15.\")"
   ]
  },
  {
   "cell_type": "code",
   "execution_count": 5,
   "metadata": {},
   "outputs": [
    {
     "name": "stdout",
     "output_type": "stream",
     "text": [
      "The Abstract Wild is one of my favorite books.\n"
     ]
    }
   ],
   "source": [
    "#program 4\n",
    "def favorite_book(title):\n",
    "    print(title + \" is one of my favorite books.\")\n",
    "\n",
    "favorite_book('The Abstract Wild')\n"
   ]
  },
  {
   "cell_type": "code",
   "execution_count": null,
   "metadata": {},
   "outputs": [],
   "source": [
    "#program 5\n",
    "import random\n",
    "\n",
    "num = random.randint(1, 30)\n",
    "\n",
    "def user_guess():\n",
    "    guess = input(\"Guess a number between 1 and 30: \")\n",
    "    print(\"Your guess is\", guess)\n",
    "    guess = int(guess)\n",
    "\n",
    "    while guess != num:\n",
    "        if guess < num:\n",
    "            guess = input(\"Your guess was too low: guess again!\")\n",
    "            print(\"Your guess is\", guess)\n",
    "            guess = int(guess)\n",
    "        if guess > num:\n",
    "            guess = input(\"Your guess was too high: guess again!\")\n",
    "            print(\"Your guess is\", guess)\n",
    "            guess = int(guess)\n",
    "        if guess == num:\n",
    "            print(\"Correct! Well done!\")\n",
    "            again = input(\"Would you like to play again? (Y or N): \")\n",
    "            if again == \"y\":\n",
    "                user_guess()\n",
    "            break"
   ]
  },
  {
   "cell_type": "code",
   "execution_count": null,
   "metadata": {},
   "outputs": [],
   "source": []
  }
 ],
 "metadata": {
  "kernelspec": {
   "display_name": "Python 3",
   "language": "python",
   "name": "python3"
  },
  "language_info": {
   "codemirror_mode": {
    "name": "ipython",
    "version": 3
   },
   "file_extension": ".py",
   "mimetype": "text/x-python",
   "name": "python",
   "nbconvert_exporter": "python",
   "pygments_lexer": "ipython3",
   "version": "3.7.4"
  }
 },
 "nbformat": 4,
 "nbformat_minor": 2
}
