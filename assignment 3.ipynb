{
 "cells": [
  {
   "cell_type": "code",
   "execution_count": 3,
   "metadata": {},
   "outputs": [
    {
     "name": "stdout",
     "output_type": "stream",
     "text": [
      "enter the first value2\n",
      "enter the second value2\n",
      "enter operetor**\n",
      "4 answer\n"
     ]
    }
   ],
   "source": [
    "##program 1\n",
    "\n",
    "num1=input(\"enter the first value\")\n",
    "num2=input(\"enter the second value\")\n",
    "oper=input(\"enter operetor\")\n",
    "num1=int(num1)\n",
    "num2=int(num2)\n",
    "if oper == '+' :\n",
    "    num = num1+num2\n",
    "    print(num,\"answer\")\n",
    "elif oper == '-' :\n",
    "    num = num1-num2\n",
    "    print(num,\"answer\") \n",
    "elif oper == '*' :\n",
    "    num = num1*num2\n",
    "    print(num,\"answer\")\n",
    "elif oper == '/' :\n",
    "    num = num1/num2\n",
    "    print(num,\"answer\")\n",
    "elif oper == '**' :\n",
    "    num = num1**num2\n",
    "    print(num,\"answer\")\n",
    "else:\n",
    "    print(\"enter correct operetor\")"
   ]
  },
  {
   "cell_type": "code",
   "execution_count": 30,
   "metadata": {},
   "outputs": [
    {
     "name": "stdout",
     "output_type": "stream",
     "text": [
      "True \n",
      " False\n"
     ]
    }
   ],
   "source": [
    "#program 2\n",
    "ini_list = [[1, 2, 5, 10, 7], \n",
    "            [4, 3, 4, 3, 21], \n",
    "            [45, 65, 8, 8, 9, 9]] \n",
    "  \n",
    "elem = 8\n",
    "elem1 = 0\n",
    "res1 = elem in (item for sublist in ini_list for item in sublist) \n",
    "res2 = elem1 in (item for sublist in ini_list for item in sublist) \n",
    "print(str(res1), \"\\n\", str(res2)) "
   ]
  },
  {
   "cell_type": "code",
   "execution_count": 8,
   "metadata": {},
   "outputs": [
    {
     "name": "stdout",
     "output_type": "stream",
     "text": [
      "{'first name': 'hamza', 'last name': 'shaikh', 'address': 'north karachi bufferzone', 'city': 'karachi'}\n"
     ]
    }
   ],
   "source": [
    "#program 3\n",
    "customer={\"first name\":\"hamza\",\n",
    "       \"last name\" : \"shaikh\",\n",
    "       \"address\": \"north karachi bufferzone\"}\n",
    "customer[\"city\"]='karachi'\n",
    "print(customer)"
   ]
  },
  {
   "cell_type": "code",
   "execution_count": 10,
   "metadata": {},
   "outputs": [
    {
     "name": "stdout",
     "output_type": "stream",
     "text": [
      "800\n"
     ]
    }
   ],
   "source": [
    "#program 4\n",
    "my_dict = {'data1':100,'data2':200,'data3':500}\n",
    "print(sum(my_dict.values()))\n"
   ]
  },
  {
   "cell_type": "code",
   "execution_count": 15,
   "metadata": {},
   "outputs": [
    {
     "name": "stdout",
     "output_type": "stream",
     "text": [
      "15\n",
      "20\n",
      "30\n",
      "40\n",
      "50\n"
     ]
    }
   ],
   "source": [
    "#program 5\n",
    "my_list = [30,20,30,40,50,15,11,20,40,50,15]\n",
    "my_list.sort()\n",
    "for i in range (len (my_list) -1):\n",
    "    if my_list[i] == my_list[i+1]:\n",
    "     print (my_list[i])"
   ]
  },
  {
   "cell_type": "code",
   "execution_count": 28,
   "metadata": {},
   "outputs": [
    {
     "name": "stdout",
     "output_type": "stream",
     "text": [
      "Enter key to check:A\n",
      "Key is present and value of the key is:\n",
      "1\n"
     ]
    }
   ],
   "source": [
    "#program 6\n",
    "d={'A':1,'B':2,'C':3}\n",
    "key=input(\"Enter key to check:\")\n",
    "if key in d.keys():\n",
    "        print(\"Key is present and value of the key is:\")\n",
    "        print(d[key])\n",
    "else:\n",
    "       print(\"Key isn't present!\")\n"
   ]
  },
  {
   "cell_type": "code",
   "execution_count": null,
   "metadata": {},
   "outputs": [],
   "source": []
  }
 ],
 "metadata": {
  "kernelspec": {
   "display_name": "Python 3",
   "language": "python",
   "name": "python3"
  },
  "language_info": {
   "codemirror_mode": {
    "name": "ipython",
    "version": 3
   },
   "file_extension": ".py",
   "mimetype": "text/x-python",
   "name": "python",
   "nbconvert_exporter": "python",
   "pygments_lexer": "ipython3",
   "version": "3.7.4"
  }
 },
 "nbformat": 4,
 "nbformat_minor": 2
}
